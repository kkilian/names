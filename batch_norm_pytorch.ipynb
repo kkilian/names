{
  "cells": [
    {
      "cell_type": "code",
      "execution_count": null,
      "metadata": {
        "id": "__krWRc5jjjg"
      },
      "outputs": [],
      "source": [
        "import torch\n",
        "import numpy as np\n",
        "from torch import nn \n",
        "import random\n",
        "from torch.nn import functional as F\n",
        "import matplotlib.pyplot as plt\n",
        "%matplotlib inline"
      ]
    },
    {
      "cell_type": "code",
      "execution_count": null,
      "metadata": {
        "colab": {
          "base_uri": "https://localhost:8080/"
        },
        "id": "7Ox9DsCRjjji",
        "outputId": "0c73252f-126e-4791-b479-93c15263930a"
      },
      "outputs": [
        {
          "data": {
            "text/plain": [
              "['ada', 'adalbert', 'adam', 'adela', 'adelajda']"
            ]
          },
          "execution_count": 76,
          "metadata": {},
          "output_type": "execute_result"
        }
      ],
      "source": [
        "imiona = open(\"imionapl.txt\", encoding = \"UTF-8\").read().splitlines()\n",
        "imiona = [i.lower() for i in imiona]\n",
        "imiona[:5]"
      ]
    },
    {
      "cell_type": "code",
      "execution_count": null,
      "metadata": {
        "colab": {
          "base_uri": "https://localhost:8080/"
        },
        "id": "14iSiKZBjjjm",
        "outputId": "c792fb2b-2333-44ea-cdb7-c831ef1750ed"
      },
      "outputs": [
        {
          "name": "stdout",
          "output_type": "stream",
          "text": [
            "31\n"
          ]
        }
      ],
      "source": [
        "chars = sorted(list(set(''.join(imiona))))\n",
        "stoi = {s:i +1  for i, s in enumerate(chars)}\n",
        "stoi['.'] = 0\n",
        "itos = {i :s for s, i in stoi.items()}\n",
        "vocab_size = len(itos)\n",
        "print(vocab_size)"
      ]
    },
    {
      "cell_type": "code",
      "execution_count": null,
      "metadata": {
        "colab": {
          "base_uri": "https://localhost:8080/"
        },
        "id": "clB-9zscjjjq",
        "outputId": "abc79d53-a5bc-4b11-d479-54c986976ed3"
      },
      "outputs": [
        {
          "name": "stdout",
          "output_type": "stream",
          "text": [
            "torch.Size([3919, 3]) torch.Size([3919])\n",
            "torch.Size([510, 3]) torch.Size([510])\n",
            "torch.Size([480, 3]) torch.Size([480])\n"
          ]
        }
      ],
      "source": [
        "block_size = 3 \n",
        "def build_dataset(imiona):  \n",
        "    X, Y = [], []\n",
        "    for w in imiona:\n",
        "\n",
        "        context = [0] * block_size\n",
        "        for ch in w + '.':\n",
        "            ix = stoi[ch]\n",
        "            X.append(context)\n",
        "            Y.append(ix)\n",
        "            context = context[1:] + [ix] # crop and append\n",
        "\n",
        "    X = torch.tensor(X)\n",
        "    Y = torch.tensor(Y)\n",
        "    print(X.shape, Y.shape)\n",
        "    return X, Y\n",
        "random.seed(42)\n",
        "random.shuffle(imiona)\n",
        "n1 = int(0.8*len(imiona))\n",
        "n2 = int(0.9*len(imiona))\n",
        "\n",
        "X_train, Y_train = build_dataset(imiona[:n1])\n",
        "X_dev, Y_dev = build_dataset(imiona[n1:n2])\n",
        "X_test, Y_test = build_dataset(imiona[n2:])\n",
        "    "
      ]
    },
    {
      "cell_type": "code",
      "execution_count": null,
      "metadata": {
        "id": "nWAQQdQGg2dm"
      },
      "outputs": [],
      "source": [
        "class Linear:\n",
        "    def __init__(self, ins, outs, bias = True):\n",
        "        self.weight = torch.rand((ins,outs), generator = g)\n",
        "        self.bias = torch.zeros((outs)) if bias else None\n",
        "    def __call__(self, x):\n",
        "        self.out = x @ self.weight\n",
        "        if self.bias is not None:\n",
        "            self.out += self.bias\n",
        "        return self.out\n",
        "    def parameters(self):\n",
        "        return [self.weight] + ([] if self.bias is None else [self.bias])\n",
        "class Tanh:\n",
        "    def __call__(self, x):\n",
        "        self.out = torch.tanh(x)\n",
        "        return self.out\n",
        "    def parameters(self):\n",
        "        return []    \n",
        "class BatchNorm1d:\n",
        "    def __init__(self, dim, eps = 1e-5, momentum = 0.1):\n",
        "        self.momentum = momentum \n",
        "        self.eps = eps\n",
        "        self.training = True\n",
        "        #\n",
        "        self.gamma = torch.ones((dim))\n",
        "        self.beta = torch.zeros((dim))\n",
        "        #\n",
        "        self.rmean = torch.zeros((dim))\n",
        "        self.rvar = torch.ones((dim))\n",
        "        \n",
        "    def __call__(self, x):\n",
        "            \n",
        "        if self.training:\n",
        "            xmean = x.mean(0, keepdim = True)\n",
        "            xvar = x.var(0, keepdim = True)\n",
        "        else:\n",
        "            xmean = self.rmean\n",
        "            xvar = self.rvar\n",
        "        xhat = (x - xmean) / torch.sqrt(xvar + self.eps)\n",
        "        self.out = self.gamma * xhat + self.beta\n",
        "        if self.training:\n",
        "            with torch.no_grad():\n",
        "                self.rmean = (1 - self.momentum) * self.rmean + self.momentum * xmean\n",
        "                self.rvar = (1 - self.momentum) * self.rvar + self.momentum * xvar\n",
        "\n",
        "        return self.out\n",
        "    def parameters(self):\n",
        "        return [self.gamma, self.beta]\n",
        "dims = 10 # the dimensionality of the character embedding vectors\n",
        "n_hidden = 100 # the number of neurons in the hidden layer of the MLP\n",
        "g = torch.Generator().manual_seed(2147483647) # for reproducibility\n",
        "\n",
        "C = torch.randn((vocab_size, dims),            generator=g)\n",
        "layers = [\n",
        "Linear(dims * block_size, n_hidden), Tanh(),\n",
        "   Linear(           n_hidden, n_hidden), Tanh(),\n",
        "   Linear(           n_hidden, n_hidden), Tanh(),\n",
        "   Linear(           n_hidden, n_hidden), Tanh(),\n",
        "   Linear(           n_hidden, n_hidden), Tanh(),\n",
        "   Linear(           n_hidden, vocab_size),\n",
        " ]\n",
        "\n"
      ]
    },
    {
      "cell_type": "code",
      "execution_count": null,
      "metadata": {
        "id": "nZ5w8qT_g2do"
      },
      "outputs": [],
      "source": [
        "with torch.no_grad():\n",
        "    # last layer: make less confident\n",
        "    layers[-1].weight *= 0.1\n",
        "    # applying gain \n",
        "    for layer in layers[:-1]:\n",
        "        if isinstance(layer, Linear):\n",
        "            \n",
        "            layer.weight *= (5/3)\n",
        "\n",
        "parameters = [C] + [p for layer in layers for p in layer.parameters()]\n",
        "for p in parameters:\n",
        "    p.requires_grad = True"
      ]
    },
    {
      "cell_type": "code",
      "execution_count": null,
      "metadata": {
        "id": "7iIq8P-tg2dp",
        "outputId": "b4c17f67-d32f-4f6a-8972-330d2926c9be"
      },
      "outputs": [
        {
          "name": "stdout",
          "output_type": "stream",
          "text": [
            "      0/   2000: 3.4463\n"
          ]
        },
        {
          "data": {
            "image/png": "[encoded data removed]",
            "text/plain": [
              "<Figure size 432x288 with 1 Axes>"
            ]
          },
          "metadata": {
            "needs_background": "light"
          },
          "output_type": "display_data"
        }
      ],
      "source": [
        "# same optimization as last time\n",
        "steps = 2000\n",
        "batch_size = 32\n",
        "losses = []\n",
        "ud = []\n",
        "\n",
        "for i in range(steps):\n",
        "    # mini-batch\n",
        "    ix = torch.randint(0, X_train.shape[0], (batch_size,), generator = g)\n",
        "    xb, yb = X_train[ix], Y_train[ix]\n",
        "    emb = C[xb]\n",
        "    x = emb.view(emb.shape[0], -1)\n",
        "    \n",
        "    #forward\n",
        "    for layer in layers:\n",
        "        x = layer(x)\n",
        "    loss = F.cross_entropy(x, yb)\n",
        "    \n",
        "    #backward\n",
        "    for layer in layers:\n",
        "        layer.out.retain_grad()\n",
        "    for p in parameters:\n",
        "        p.grad = None\n",
        "    loss.backward()\n",
        "    \n",
        "    # update\n",
        "    lr = 0.1 if i < 150000 else 0.01\n",
        "    for p in parameters:\n",
        "        p.data += -lr * p.grad\n",
        "    if i % 10000 == 0: # print every once in a while\n",
        "        print(f'{i:7d}/{steps:7d}: {loss.item():.4f}')\n",
        "    losses.append(loss.item())\n",
        "    with torch.no_grad():\n",
        "        ud.append([((lr*p.grad).std() / p.data.std()).log10().item() for p in parameters])\n",
        "\n",
        "    if i >= 2000:\n",
        "        break # AFTER_DEBUG: would take out obviously to run full optimization\n",
        "\n",
        "        \n",
        "plt.plot(np.arange(steps), losses);"
      ]
    }
  ],
  "metadata": {
    "colab": {
      "provenance": []
    },
    "kernelspec": {
      "display_name": "Python 3",
      "language": "python",
      "name": "python3"
    },
    "language_info": {
      "codemirror_mode": {
        "name": "ipython",
        "version": 3
      },
      "file_extension": ".py",
      "mimetype": "text/x-python",
      "name": "python",
      "nbconvert_exporter": "python",
      "pygments_lexer": "ipython3",
      "version": "3.8.5"
    }
  },
  "nbformat": 4,
  "nbformat_minor": 0
}