{
  "cells": [
    {
      "cell_type": "code",
      "execution_count": null,
      "metadata": {
        "id": "__krWRc5jjjg"
      },
      "outputs": [],
      "source": [
        "import torch\n",
        "import numpy as np\n",
        "from torch import nn \n",
        "import random\n",
        "from torch.nn import functional as F\n",
        "import matplotlib.pyplot as plt\n",
        "%matplotlib inline"
      ]
    },
    {
      "cell_type": "code",
      "execution_count": null,
      "metadata": {
        "colab": {
          "base_uri": "https://localhost:8080/"
        },
        "id": "7Ox9DsCRjjji",
        "outputId": "5d4a9923-2dad-4f09-ad69-d32fb4a78ff1"
      },
      "outputs": [
        {
          "data": {
            "text/plain": [
              "['ada', 'adalbert', 'adam', 'adela', 'adelajda']"
            ]
          },
          "execution_count": 116,
          "metadata": {},
          "output_type": "execute_result"
        }
      ],
      "source": [
        "imiona = open(\"imionapl.txt\", encoding = \"UTF-8\").read().splitlines()\n",
        "imiona = [i.lower() for i in imiona]\n",
        "imiona[:5]"
      ]
    },
    {
      "cell_type": "code",
      "execution_count": null,
      "metadata": {
        "id": "14iSiKZBjjjm"
      },
      "outputs": [],
      "source": [
        "chars = sorted(list(set(''.join(imiona))))\n",
        "stoi = {s:i +1  for i, s in enumerate(chars)}\n",
        "stoi['.'] = 0\n",
        "itos = {i :s for s, i in stoi.items()}"
      ]
    },
    {
      "cell_type": "code",
      "execution_count": null,
      "metadata": {
        "colab": {
          "base_uri": "https://localhost:8080/"
        },
        "id": "Cly0Np3Rjjjo",
        "outputId": "2cecc7a9-0293-41f8-c1a5-69a3ddb7cbf9"
      },
      "outputs": [
        {
          "data": {
            "text/plain": [
              "{1: 'a',\n",
              " 2: 'b',\n",
              " 3: 'c',\n",
              " 4: 'd',\n",
              " 5: 'e',\n",
              " 6: 'f',\n",
              " 7: 'g',\n",
              " 8: 'h',\n",
              " 9: 'i',\n",
              " 10: 'j',\n",
              " 11: 'k',\n",
              " 12: 'l',\n",
              " 13: 'm',\n",
              " 14: 'n',\n",
              " 15: 'o',\n",
              " 16: 'p',\n",
              " 17: 'r',\n",
              " 18: 's',\n",
              " 19: 't',\n",
              " 20: 'u',\n",
              " 21: 'v',\n",
              " 22: 'w',\n",
              " 23: 'y',\n",
              " 24: 'z',\n",
              " 25: 'ó',\n",
              " 26: 'ę',\n",
              " 27: 'ł',\n",
              " 28: 'ń',\n",
              " 29: 'ś',\n",
              " 30: 'ż',\n",
              " 0: '.'}"
            ]
          },
          "execution_count": 118,
          "metadata": {},
          "output_type": "execute_result"
        }
      ],
      "source": [
        "itos"
      ]
    },
    {
      "cell_type": "code",
      "execution_count": null,
      "metadata": {
        "colab": {
          "base_uri": "https://localhost:8080/"
        },
        "id": "clB-9zscjjjq",
        "outputId": "d3f869d5-d173-4972-9660-2c30736a7187"
      },
      "outputs": [
        {
          "name": "stdout",
          "output_type": "stream",
          "text": [
            "torch.Size([3919, 3]) torch.Size([3919])\n",
            "torch.Size([510, 3]) torch.Size([510])\n",
            "torch.Size([480, 3]) torch.Size([480])\n"
          ]
        }
      ],
      "source": [
        "block_size = 3 \n",
        "def build_dataset(words):  \n",
        "  X, Y = [], []\n",
        "  for w in words:\n",
        "\n",
        "    context = [0] * block_size\n",
        "    for ch in w + '.':\n",
        "      ix = stoi[ch]\n",
        "      X.append(context)\n",
        "      Y.append(ix)\n",
        "      context = context[1:] + [ix] # crop and append\n",
        "\n",
        "  X = torch.tensor(X)\n",
        "  Y = torch.tensor(Y)\n",
        "  print(X.shape, Y.shape)\n",
        "  return X, Y\n",
        "\n",
        "\n",
        "random.seed(42)\n",
        "random.shuffle(imiona)\n",
        "n1 = int(0.8*len(imiona))\n",
        "n2 = int(0.9*len(imiona))\n",
        "\n",
        "X_train, Y_train = build_dataset(imiona[:n1])\n",
        "X_dev, Y_dev = build_dataset(imiona[n1:n2])\n",
        "X_test, Y_test = build_dataset(imiona[n2:])\n",
        "    "
      ]
    },
    {
      "cell_type": "code",
      "execution_count": null,
      "metadata": {
        "id": "zodqDFrDjjjr"
      },
      "outputs": [],
      "source": [
        "#building lookup table\n",
        "C = torch.randn((31,2))"
      ]
    },
    {
      "cell_type": "code",
      "execution_count": null,
      "metadata": {
        "colab": {
          "base_uri": "https://localhost:8080/"
        },
        "id": "KE4w5dw5jjjs",
        "outputId": "82765896-9d04-4ed3-d4f2-ae46cdf68e2e"
      },
      "outputs": [
        {
          "data": {
            "text/plain": [
              "torch.Size([3919, 3, 2])"
            ]
          },
          "execution_count": 121,
          "metadata": {},
          "output_type": "execute_result"
        }
      ],
      "source": [
        "emb = C[X_train]\n",
        "emb.shape"
      ]
    },
    {
      "cell_type": "code",
      "execution_count": null,
      "metadata": {
        "id": "INNHa9xMjjjt"
      },
      "outputs": [],
      "source": [
        "W1 = torch.randn((6,100))\n",
        "b1 = torch.rand(100)"
      ]
    },
    {
      "cell_type": "code",
      "execution_count": null,
      "metadata": {
        "colab": {
          "base_uri": "https://localhost:8080/"
        },
        "id": "2DPoUBdajjju",
        "outputId": "dde3e932-bc1e-4f46-d421-dddabe1b4471"
      },
      "outputs": [
        {
          "data": {
            "text/plain": [
              "torch.Size([3919, 100])"
            ]
          },
          "execution_count": 123,
          "metadata": {},
          "output_type": "execute_result"
        }
      ],
      "source": [
        "emb = emb.view(-1,6) #matching sizes\n",
        "h = torch.tanh(emb @ W1 + b1)\n",
        "h.shape"
      ]
    },
    {
      "cell_type": "code",
      "execution_count": null,
      "metadata": {
        "colab": {
          "base_uri": "https://localhost:8080/"
        },
        "id": "1LAvhT1tjjjv",
        "outputId": "04bb9279-15e6-48c7-be85-703e9ac64363"
      },
      "outputs": [
        {
          "data": {
            "text/plain": [
              "torch.Size([3919, 31])"
            ]
          },
          "execution_count": 124,
          "metadata": {},
          "output_type": "execute_result"
        }
      ],
      "source": [
        "W2 = torch.randn((100, 31))\n",
        "b2 = torch.randn(31)\n",
        "\n",
        "logits = h @ W2 + b2\n",
        "logits.shape"
      ]
    },
    {
      "cell_type": "markdown",
      "metadata": {
        "id": "kVgYKTlJjmWL"
      },
      "source": [
        "###softmax\n",
        "\n",
        "\n",
        "$\\sigma(z_i) = \\frac{e^{z_{i}}}{\\sum_{j=1}^K e^{z_{j}}} \\ \\ \\ for\\ i=1,2,\\dots,K$"
      ]
    },
    {
      "cell_type": "code",
      "execution_count": null,
      "metadata": {
        "colab": {
          "base_uri": "https://localhost:8080/"
        },
        "id": "mMMWMKZ_jjjw",
        "outputId": "c4b38527-3168-4179-f99e-f643dc20e4ea"
      },
      "outputs": [
        {
          "data": {
            "text/plain": [
              "torch.Size([3919, 31])"
            ]
          },
          "execution_count": 125,
          "metadata": {},
          "output_type": "execute_result"
        }
      ],
      "source": [
        "#softmax\n",
        "counts = logits.exp()\n",
        "prob = counts / counts.sum(1, keepdims=True)\n",
        "prob.shape"
      ]
    },
    {
      "cell_type": "markdown",
      "metadata": {
        "id": "QJydFUawqgQS"
      },
      "source": [
        "\n",
        "log - the natural log\n",
        "\n",
        "y - binary indicator (0 or 1) if class label c is the correct classification for observation o\n",
        "\n",
        "p - predicted probability observation o is of class c\n",
        "\n",
        "\n",
        "$NLL(y) = -{\\log(p(y))}$\n"
      ]
    },
    {
      "cell_type": "code",
      "execution_count": null,
      "metadata": {
        "colab": {
          "base_uri": "https://localhost:8080/"
        },
        "id": "QiuYNg1sqflB",
        "outputId": "e662b719-d05e-475d-8342-e4c71768d2a3"
      },
      "outputs": [
        {
          "data": {
            "text/plain": [
              "tensor(14.8177)"
            ]
          },
          "execution_count": 126,
          "metadata": {},
          "output_type": "execute_result"
        }
      ],
      "source": [
        "loss = -prob[torch.arange(prob.shape[0]), Y_train].log().mean()\n",
        "loss"
      ]
    },
    {
      "cell_type": "code",
      "execution_count": null,
      "metadata": {
        "id": "odGyEkgQrlHa"
      },
      "outputs": [],
      "source": [
        "g = torch.Generator().manual_seed(2147483647) # for reproducibility\n",
        "C = torch.randn((31, 10), generator=g) #10D space\n",
        "W1 = torch.randn((30, 200), generator=g)\n",
        "b1 = torch.randn(200, generator=g)\n",
        "W2 = torch.randn((200, 31), generator=g)\n",
        "b2 = torch.randn(31, generator=g)\n",
        "parameters = [C, W1, b1, W2, b2]"
      ]
    },
    {
      "cell_type": "code",
      "execution_count": null,
      "metadata": {
        "colab": {
          "base_uri": "https://localhost:8080/"
        },
        "id": "gmpNuJjizcpN",
        "outputId": "022e8b7a-f79c-46a9-e6c4-71b1fb4eb54d"
      },
      "outputs": [
        {
          "data": {
            "text/plain": [
              "(tensor(14.8177), tensor(14.8177))"
            ]
          },
          "execution_count": 128,
          "metadata": {},
          "output_type": "execute_result"
        }
      ],
      "source": [
        "# will be using F.cross_entropy instead of calculationg it by hand (counts, prob)\n",
        "loss_2 = F.cross_entropy(logits, Y_train)\n",
        "loss, loss_2"
      ]
    },
    {
      "cell_type": "code",
      "execution_count": null,
      "metadata": {
        "colab": {
          "base_uri": "https://localhost:8080/"
        },
        "id": "01geAkx_vEgr",
        "outputId": "abea3eda-3897-49df-de43-036cfb99415c"
      },
      "outputs": [
        {
          "data": {
            "text/plain": [
              "12741"
            ]
          },
          "execution_count": 129,
          "metadata": {},
          "output_type": "execute_result"
        }
      ],
      "source": [
        "sum(p.nelement() for p in parameters) # number of parameters in total"
      ]
    },
    {
      "cell_type": "code",
      "execution_count": null,
      "metadata": {
        "id": "BB1-wDWqxQvm"
      },
      "outputs": [],
      "source": [
        "for p in parameters:\n",
        "  p.requires_grad = True"
      ]
    },
    {
      "cell_type": "code",
      "execution_count": null,
      "metadata": {
        "colab": {
          "base_uri": "https://localhost:8080/",
          "height": 1000
        },
        "id": "MDbKDk9ryucM",
        "outputId": "907184ab-1b1d-4847-a64b-0a3083c8c4a8"
      },
      "outputs": [
        {
          "name": "stdout",
          "output_type": "stream",
          "text": [
            "25.506378173828125\n",
            "12.213452339172363\n",
            "7.9677276611328125\n",
            "5.938740253448486\n",
            "4.950891494750977\n",
            "4.997961521148682\n",
            "3.6560757160186768\n",
            "3.9922499656677246\n",
            "5.355339527130127\n",
            "3.618809223175049\n",
            "2.9340624809265137\n",
            "3.6104519367218018\n",
            "3.8376786708831787\n",
            "3.0071003437042236\n",
            "2.8485002517700195\n",
            "1.855127215385437\n",
            "2.8497231006622314\n",
            "3.0861971378326416\n",
            "2.574385643005371\n",
            "2.232125997543335\n",
            "3.738973379135132\n"
          ]
        },
        {
          "data": {
            "image/png": "[encoded data removed]",
            "text/plain": [
              "<Figure size 432x288 with 1 Axes>"
            ]
          },
          "metadata": {
            "needs_background": "light"
          },
          "output_type": "display_data"
        }
      ],
      "source": [
        "epochs = 1000\n",
        "losses = []\n",
        "steps = []\n",
        "lri = [] #to determine reasonable learning rate\n",
        "for i in range(epochs):\n",
        "    #minibatch index\n",
        "    ix = torch.randint(0, X_train.shape[0], (32,))\n",
        "    \n",
        "    #forward\n",
        "    emb = C[X_train[ix]] #(32, 3, 10)\n",
        "    h = emb.view(-1,30) @ W1 + b1 #(32,200)\n",
        "    h_act = torch.tanh(h)\n",
        "    logits = h_act @ W2 + b2 #(32,30)\n",
        "    loss = F.cross_entropy(logits, Y_train[ix])\n",
        "    if i % 50 == 0:\n",
        "        print(loss.item())\n",
        "    \n",
        "    #backward \n",
        "    for p in parameters:\n",
        "        p.grad = None\n",
        "    loss.backward()\n",
        "    for p in parameters:\n",
        "        p.data += -0.15 * p.grad\n",
        "    # track stats\n",
        "    #lri.append(lre[i]) \n",
        "    steps.append(i)\n",
        "    losses.append(loss.log10().item()) #log scale \n",
        "plt.plot(np.arange(epochs), losses)\n",
        "print(loss.item())\n",
        "    \n",
        "    "
      ]
    },
    {
      "cell_type": "code",
      "execution_count": null,
      "metadata": {
        "id": "UGnN_rST0hML",
        "outputId": "2f1d5b66-545a-418a-c320-da85cc79e8f5"
      },
      "outputs": [
        {
          "name": "stdout",
          "output_type": "stream",
          "text": [
            "torch.Size([510, 3, 10])\n",
            "torch.Size([510, 31])\n",
            "devset loss :4.3615875244140625\n"
          ]
        }
      ],
      "source": [
        "emb = C[X_dev] # (510, 3, 10)\n",
        "h = torch.tanh(emb.view(-1, 30) @ W1 + b1) # (510, 100)\n",
        "logits = h @ W2 + b2 # (510, 31)\n",
        "loss_dev = F.cross_entropy(logits, Y_dev)\n",
        "print(f\"devset loss :{loss_dev.item()}\")"
      ]
    },
    {
      "cell_type": "code",
      "execution_count": null,
      "metadata": {
        "id": "dByvWEvbZ7xL",
        "outputId": "12959d69-7d31-430a-f450-a1394f32657f"
      },
      "outputs": [
        {
          "data": {
            "image/png": "[encoded data removed]",
            "text/plain": [
              "<Figure size 432x288 with 1 Axes>"
            ]
          },
          "metadata": {
            "needs_background": "light"
          },
          "output_type": "display_data"
        }
      ],
      "source": [
        "# visualize dimensions 0 and 1 of the embedding matrix C for all chars\n",
        "plt.scatter(C[:,0].data, C[:,1].data, s=200)\n",
        "for i in range(C.shape[0]):\n",
        "    plt.text(C[i,0].item(), C[i,1].item(), itos[i], ha=\"center\", va=\"center\", color='white')\n",
        "plt.grid('minor')"
      ]
    },
    {
      "cell_type": "code",
      "execution_count": null,
      "metadata": {
        "id": "Fu_OiTLYZ7xM",
        "outputId": "b74da2a9-89c8-4de5-8795-50470c9a29ab"
      },
      "outputs": [
        {
          "name": "stdout",
          "output_type": "stream",
          "text": [
            "choscaon.\n",
            "alianard.\n",
            "alerian.\n",
            "galdrianard.\n",
            "lilton.\n",
            "alerianard.\n",
            "llest.\n",
            "ranttzard.\n",
            "wirginikabrieta.\n",
            "llesłat.\n",
            "ragnsrnna.\n",
            "amanuer.\n",
            "lunina.\n",
            "baladia.\n",
            "ilagnsrnna.\n",
            "luabl.\n",
            "różtopelu.\n",
            "ludwasylwandra.\n",
            "sonśtlioliusz.\n",
            "galdrsknśtasz.\n"
          ]
        }
      ],
      "source": [
        "# sample from the model\n",
        "g = torch.Generator().manual_seed(214)\n",
        "\n",
        "for _ in range(20):\n",
        "    \n",
        "    out = []\n",
        "    context = [0] * block_size # initialize with all ...\n",
        "    while True:\n",
        "      emb = C[torch.tensor([context])] # (1,block_size,d)\n",
        "      h = torch.tanh(emb.view(1, -1) @ W1 + b1)\n",
        "      logits = h @ W2 + b2\n",
        "      probs = F.softmax(logits, dim=1)\n",
        "      ix = torch.multinomial(probs, num_samples=1, generator=g).item()\n",
        "      context = context[1:] + [ix]\n",
        "      out.append(ix)\n",
        "      if ix == 0:\n",
        "        break\n",
        "    \n",
        "    print(''.join(itos[i] for i in out))"
      ]
    }
  ],
  "metadata": {
    "colab": {
      "provenance": []
    },
    "kernelspec": {
      "display_name": "Python 3",
      "language": "python",
      "name": "python3"
    },
    "language_info": {
      "codemirror_mode": {
        "name": "ipython",
        "version": 3
      },
      "file_extension": ".py",
      "mimetype": "text/x-python",
      "name": "python",
      "nbconvert_exporter": "python",
      "pygments_lexer": "ipython3",
      "version": "3.8.5"
    }
  },
  "nbformat": 4,
  "nbformat_minor": 0
}