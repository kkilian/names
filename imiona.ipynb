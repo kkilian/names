{
  "cells": [
    {
      "cell_type": "code",
      "execution_count": null,
      "metadata": {
        "id": "__krWRc5jjjg"
      },
      "outputs": [],
      "source": [
        "import torch\n",
        "import numpy as np\n",
        "from torch import nn \n",
        "import random\n",
        "from torch.nn import functional as F\n",
        "import matplotlib.pyplot as plt\n",
        "%matplotlib inline"
      ]
    },
    {
      "cell_type": "code",
      "execution_count": null,
      "metadata": {
        "colab": {
          "base_uri": "https://localhost:8080/"
        },
        "id": "7Ox9DsCRjjji",
        "outputId": "5d4a9923-2dad-4f09-ad69-d32fb4a78ff1"
      },
      "outputs": [
        {
          "output_type": "execute_result",
          "data": {
            "text/plain": [
              "['ada', 'adalbert', 'adam', 'adela', 'adelajda']"
            ]
          },
          "metadata": {},
          "execution_count": 130
        }
      ],
      "source": [
        "imiona = open(\"imionapl.txt\", encoding = \"UTF-8\").read().splitlines()\n",
        "imiona = [i.lower() for i in imiona]\n",
        "imiona[:5]"
      ]
    },
    {
      "cell_type": "code",
      "execution_count": null,
      "metadata": {
        "id": "14iSiKZBjjjm"
      },
      "outputs": [],
      "source": [
        "chars = sorted(list(set(''.join(imiona))))\n",
        "stoi = {s:i +1  for i, s in enumerate(chars)}\n",
        "stoi['.'] = 0\n",
        "itos = {i :s for s, i in stoi.items()}"
      ]
    },
    {
      "cell_type": "code",
      "execution_count": null,
      "metadata": {
        "colab": {
          "base_uri": "https://localhost:8080/"
        },
        "id": "Cly0Np3Rjjjo",
        "outputId": "2cecc7a9-0293-41f8-c1a5-69a3ddb7cbf9"
      },
      "outputs": [
        {
          "output_type": "execute_result",
          "data": {
            "text/plain": [
              "{1: 'a',\n",
              " 2: 'b',\n",
              " 3: 'c',\n",
              " 4: 'd',\n",
              " 5: 'e',\n",
              " 6: 'f',\n",
              " 7: 'g',\n",
              " 8: 'h',\n",
              " 9: 'i',\n",
              " 10: 'j',\n",
              " 11: 'k',\n",
              " 12: 'l',\n",
              " 13: 'm',\n",
              " 14: 'n',\n",
              " 15: 'o',\n",
              " 16: 'p',\n",
              " 17: 'r',\n",
              " 18: 's',\n",
              " 19: 't',\n",
              " 20: 'u',\n",
              " 21: 'v',\n",
              " 22: 'w',\n",
              " 23: 'y',\n",
              " 24: 'z',\n",
              " 25: 'ó',\n",
              " 26: 'ę',\n",
              " 27: 'ł',\n",
              " 28: 'ń',\n",
              " 29: 'ś',\n",
              " 30: 'ż',\n",
              " 0: '.'}"
            ]
          },
          "metadata": {},
          "execution_count": 132
        }
      ],
      "source": [
        "itos"
      ]
    },
    {
      "cell_type": "code",
      "execution_count": null,
      "metadata": {
        "colab": {
          "base_uri": "https://localhost:8080/"
        },
        "id": "clB-9zscjjjq",
        "outputId": "d3f869d5-d173-4972-9660-2c30736a7187"
      },
      "outputs": [
        {
          "output_type": "stream",
          "name": "stdout",
          "text": [
            "torch.Size([3919, 3]) torch.Size([3919])\n",
            "torch.Size([510, 3]) torch.Size([510])\n",
            "torch.Size([480, 3]) torch.Size([480])\n"
          ]
        }
      ],
      "source": [
        "block_size = 3 \n",
        "def build_dataset(words):  \n",
        "  X, Y = [], []\n",
        "  for w in words:\n",
        "\n",
        "    context = [0] * block_size\n",
        "    for ch in w + '.':\n",
        "      ix = stoi[ch]\n",
        "      X.append(context)\n",
        "      Y.append(ix)\n",
        "      context = context[1:] + [ix] # crop and append\n",
        "\n",
        "  X = torch.tensor(X)\n",
        "  Y = torch.tensor(Y)\n",
        "  print(X.shape, Y.shape)\n",
        "  return X, Y\n",
        "\n",
        "\n",
        "random.seed(42)\n",
        "random.shuffle(imiona)\n",
        "n1 = int(0.8*len(imiona))\n",
        "n2 = int(0.9*len(imiona))\n",
        "\n",
        "X_train, Y_train = build_dataset(imiona[:n1])\n",
        "X_dev, Y_dev = build_dataset(imiona[n1:n2])\n",
        "X_test, Y_test = build_dataset(imiona[n2:])\n",
        "    "
      ]
    },
    {
      "cell_type": "code",
      "execution_count": null,
      "metadata": {
        "id": "zodqDFrDjjjr"
      },
      "outputs": [],
      "source": [
        "#building lookup table\n",
        "C = torch.randn((31,2))"
      ]
    },
    {
      "cell_type": "code",
      "execution_count": null,
      "metadata": {
        "colab": {
          "base_uri": "https://localhost:8080/"
        },
        "id": "KE4w5dw5jjjs",
        "outputId": "82765896-9d04-4ed3-d4f2-ae46cdf68e2e"
      },
      "outputs": [
        {
          "output_type": "execute_result",
          "data": {
            "text/plain": [
              "torch.Size([3919, 3, 2])"
            ]
          },
          "metadata": {},
          "execution_count": 135
        }
      ],
      "source": [
        "emb = C[X_train]\n",
        "emb.shape"
      ]
    },
    {
      "cell_type": "code",
      "execution_count": null,
      "metadata": {
        "id": "INNHa9xMjjjt"
      },
      "outputs": [],
      "source": [
        "W1 = torch.randn((6,100))\n",
        "b1 = torch.rand(100)"
      ]
    },
    {
      "cell_type": "code",
      "execution_count": null,
      "metadata": {
        "colab": {
          "base_uri": "https://localhost:8080/"
        },
        "id": "2DPoUBdajjju",
        "outputId": "dde3e932-bc1e-4f46-d421-dddabe1b4471"
      },
      "outputs": [
        {
          "output_type": "execute_result",
          "data": {
            "text/plain": [
              "torch.Size([3919, 100])"
            ]
          },
          "metadata": {},
          "execution_count": 137
        }
      ],
      "source": [
        "emb = emb.view(-1,6) #matching sizes\n",
        "h = torch.tanh(emb @ W1 + b1)\n",
        "h.shape"
      ]
    },
    {
      "cell_type": "code",
      "execution_count": null,
      "metadata": {
        "colab": {
          "base_uri": "https://localhost:8080/"
        },
        "id": "1LAvhT1tjjjv",
        "outputId": "04bb9279-15e6-48c7-be85-703e9ac64363"
      },
      "outputs": [
        {
          "output_type": "execute_result",
          "data": {
            "text/plain": [
              "torch.Size([3919, 31])"
            ]
          },
          "metadata": {},
          "execution_count": 138
        }
      ],
      "source": [
        "W2 = torch.randn((100, 31))\n",
        "b2 = torch.randn(31)\n",
        "\n",
        "logits = h @ W2 + b2\n",
        "logits.shape"
      ]
    },
    {
      "cell_type": "markdown",
      "source": [
        "###softmax\n",
        "\n",
        "\n",
        "$\\sigma(z_i) = \\frac{e^{z_{i}}}{\\sum_{j=1}^K e^{z_{j}}} \\ \\ \\ for\\ i=1,2,\\dots,K$"
      ],
      "metadata": {
        "id": "kVgYKTlJjmWL"
      }
    },
    {
      "cell_type": "code",
      "execution_count": null,
      "metadata": {
        "colab": {
          "base_uri": "https://localhost:8080/"
        },
        "id": "mMMWMKZ_jjjw",
        "outputId": "c4b38527-3168-4179-f99e-f643dc20e4ea"
      },
      "outputs": [
        {
          "output_type": "execute_result",
          "data": {
            "text/plain": [
              "torch.Size([3919, 31])"
            ]
          },
          "metadata": {},
          "execution_count": 139
        }
      ],
      "source": [
        "#softmax\n",
        "counts = logits.exp()\n",
        "prob = counts / counts.sum(1, keepdims=True)\n",
        "prob.shape"
      ]
    },
    {
      "cell_type": "markdown",
      "source": [
        "\n",
        "log - the natural log\n",
        "\n",
        "y - binary indicator (0 or 1) if class label c is the correct classification for observation o\n",
        "\n",
        "p - predicted probability observation o is of class c\n",
        "\n",
        "\n",
        "$NLL(y) = -{\\log(p(y))}$\n"
      ],
      "metadata": {
        "id": "QJydFUawqgQS"
      }
    },
    {
      "cell_type": "code",
      "source": [
        "loss = -prob[torch.arange(prob.shape[0]), Y_train].log().mean()\n",
        "loss"
      ],
      "metadata": {
        "colab": {
          "base_uri": "https://localhost:8080/"
        },
        "id": "QiuYNg1sqflB",
        "outputId": "e662b719-d05e-475d-8342-e4c71768d2a3"
      },
      "execution_count": null,
      "outputs": [
        {
          "output_type": "execute_result",
          "data": {
            "text/plain": [
              "tensor(14.7567)"
            ]
          },
          "metadata": {},
          "execution_count": 140
        }
      ]
    },
    {
      "cell_type": "code",
      "source": [
        "g = torch.Generator().manual_seed(2147483647) # for reproducibility\n",
        "C = torch.randn((31, 10), generator=g) #10D space\n",
        "W1 = torch.randn((30, 200), generator=g)\n",
        "b1 = torch.randn(200, generator=g)\n",
        "W2 = torch.randn((200, 31), generator=g)\n",
        "b2 = torch.randn(31, generator=g)\n",
        "parameters = [C, W1, b1, W2, b2]"
      ],
      "metadata": {
        "id": "odGyEkgQrlHa"
      },
      "execution_count": null,
      "outputs": []
    },
    {
      "cell_type": "code",
      "source": [
        "# will be using F.cross_entropy instead of calculationg it by hand (counts, prob)\n",
        "loss_2 = F.cross_entropy(logits, Y_train)\n",
        "loss, loss_2"
      ],
      "metadata": {
        "colab": {
          "base_uri": "https://localhost:8080/"
        },
        "id": "gmpNuJjizcpN",
        "outputId": "022e8b7a-f79c-46a9-e6c4-71b1fb4eb54d"
      },
      "execution_count": null,
      "outputs": [
        {
          "output_type": "execute_result",
          "data": {
            "text/plain": [
              "(tensor(14.7567), tensor(14.7567))"
            ]
          },
          "metadata": {},
          "execution_count": 142
        }
      ]
    },
    {
      "cell_type": "code",
      "source": [
        "sum(p.nelement() for p in parameters) # number of parameters in total"
      ],
      "metadata": {
        "colab": {
          "base_uri": "https://localhost:8080/"
        },
        "id": "01geAkx_vEgr",
        "outputId": "abea3eda-3897-49df-de43-036cfb99415c"
      },
      "execution_count": null,
      "outputs": [
        {
          "output_type": "execute_result",
          "data": {
            "text/plain": [
              "12741"
            ]
          },
          "metadata": {},
          "execution_count": 143
        }
      ]
    },
    {
      "cell_type": "code",
      "source": [
        "for p in parameters:\n",
        "  p.requires_grad = True"
      ],
      "metadata": {
        "id": "BB1-wDWqxQvm"
      },
      "execution_count": null,
      "outputs": []
    },
    {
      "cell_type": "code",
      "source": [
        "epochs = 100\n",
        "losses = []\n",
        "for _ in range(epochs):\n",
        "  #creating mini-batch\n",
        "  ix = torch.randint(0,X_train.shape[0], (32,))\n",
        "  #forward\n",
        "  emb = C[X_train[ix]]#(32,3,10)\n",
        "  h = torch.tanh(emb.view(-1,30) @ W1 + b1)#(32,200)\n",
        "  logits = h @ W2 + b2#(32,27)\n",
        "  loss = F.cross_entropy(logits, Y_train[ix])\n",
        "  print(loss.item())\n",
        "  losses.append(loss.item())\n",
        "  #backward\n",
        "  for p in parameters:\n",
        "    p.grad = None\n",
        "  loss.backward()\n",
        "  #update\n",
        "  for p in parameters:\n",
        "    p.data += - 0.1 * p.grad\n",
        "plt.plot(np.arange(epochs), losses)"
      ],
      "metadata": {
        "colab": {
          "base_uri": "https://localhost:8080/",
          "height": 1000
        },
        "id": "MDbKDk9ryucM",
        "outputId": "907184ab-1b1d-4847-a64b-0a3083c8c4a8"
      },
      "execution_count": null,
      "outputs": [
        {
          "output_type": "stream",
          "name": "stdout",
          "text": [
            "25.64737892150879\n",
            "20.933853149414062\n",
            "21.248937606811523\n",
            "25.56443214416504\n",
            "22.495309829711914\n",
            "23.339366912841797\n",
            "20.714380264282227\n",
            "20.575727462768555\n",
            "25.373504638671875\n",
            "18.543514251708984\n",
            "19.767213821411133\n",
            "19.03477668762207\n",
            "20.8313045501709\n",
            "23.704252243041992\n",
            "15.447561264038086\n",
            "16.24024200439453\n",
            "19.608362197875977\n",
            "15.03000545501709\n",
            "16.07225799560547\n",
            "20.558422088623047\n",
            "16.103538513183594\n",
            "18.73695182800293\n",
            "17.42110252380371\n",
            "15.462782859802246\n",
            "14.767810821533203\n",
            "17.05646324157715\n",
            "15.263886451721191\n",
            "11.39395523071289\n",
            "13.50398063659668\n",
            "15.937312126159668\n",
            "12.144492149353027\n",
            "17.116668701171875\n",
            "13.16891098022461\n",
            "13.38616943359375\n",
            "14.048529624938965\n",
            "13.190545082092285\n",
            "14.37734317779541\n",
            "13.559438705444336\n",
            "14.064979553222656\n",
            "12.518780708312988\n",
            "10.853814125061035\n",
            "15.019464492797852\n",
            "14.993341445922852\n",
            "11.054543495178223\n",
            "10.375520706176758\n",
            "10.433977127075195\n",
            "8.966645240783691\n",
            "11.536076545715332\n",
            "8.620128631591797\n",
            "12.306408882141113\n",
            "9.894858360290527\n",
            "9.451360702514648\n",
            "9.680578231811523\n",
            "10.728364944458008\n",
            "13.003010749816895\n",
            "13.355170249938965\n",
            "11.398730278015137\n",
            "14.29847526550293\n",
            "13.083854675292969\n",
            "7.62717342376709\n",
            "13.826440811157227\n",
            "12.853032112121582\n",
            "12.020210266113281\n",
            "12.458650588989258\n",
            "7.717017650604248\n",
            "12.056381225585938\n",
            "8.626235961914062\n",
            "14.109147071838379\n",
            "7.045520782470703\n",
            "8.272830963134766\n",
            "7.190344333648682\n",
            "12.319633483886719\n",
            "11.841798782348633\n",
            "8.427966117858887\n",
            "7.737504959106445\n",
            "12.833429336547852\n",
            "6.898093223571777\n",
            "10.652935981750488\n",
            "11.945563316345215\n",
            "11.455418586730957\n",
            "7.9667205810546875\n",
            "7.641481876373291\n",
            "8.968297004699707\n",
            "9.237339973449707\n",
            "9.752616882324219\n",
            "9.760529518127441\n",
            "8.733057975769043\n",
            "7.917997360229492\n",
            "7.284418106079102\n",
            "10.308127403259277\n",
            "8.391233444213867\n",
            "7.866559982299805\n",
            "8.540752410888672\n",
            "8.27329158782959\n",
            "11.403388023376465\n",
            "8.852378845214844\n",
            "10.285432815551758\n",
            "8.56068229675293\n",
            "7.544282913208008\n",
            "8.919088363647461\n"
          ]
        },
        {
          "output_type": "execute_result",
          "data": {
            "text/plain": [
              "[<matplotlib.lines.Line2D at 0x7f87ad5b2d90>]"
            ]
          },
          "metadata": {},
          "execution_count": 145
        },
        {
          "output_type": "display_data",
          "data": {
            "text/plain": [
              "<Figure size 432x288 with 1 Axes>"
            ],
            "image/png": "[encoded data removed]"
          },
          "metadata": {
            "needs_background": "light"
          }
        }
      ]
    },
    {
      "cell_type": "code",
      "source": [],
      "metadata": {
        "id": "UGnN_rST0hML"
      },
      "execution_count": null,
      "outputs": []
    }
  ],
  "metadata": {
    "kernelspec": {
      "display_name": "Python 3",
      "language": "python",
      "name": "python3"
    },
    "language_info": {
      "codemirror_mode": {
        "name": "ipython",
        "version": 3
      },
      "file_extension": ".py",
      "mimetype": "text/x-python",
      "name": "python",
      "nbconvert_exporter": "python",
      "pygments_lexer": "ipython3",
      "version": "3.8.5"
    },
    "colab": {
      "provenance": []
    }
  },
  "nbformat": 4,
  "nbformat_minor": 0
}