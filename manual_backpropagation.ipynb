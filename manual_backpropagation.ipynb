{
  "cells": [
    {
      "cell_type": "code",
      "execution_count": null,
      "metadata": {
        "id": "ChBbac4y8PPq"
      },
      "outputs": [],
      "source": [
        "import torch\n",
        "import torch.nn.functional as F\n",
        "import matplotlib.pyplot as plt # for making figures\n",
        "%matplotlib inline"
      ]
    },
    {
      "cell_type": "code",
      "execution_count": null,
      "metadata": {
        "id": "klmu3ZG08PPr",
        "outputId": "57c243ab-8d83-4618-b6f1-5d2e6017e904"
      },
      "outputs": [
        {
          "data": {
            "text/plain": [
              "['ada', 'adalbert', 'adam', 'adela', 'adelajda']"
            ]
          },
          "execution_count": 21,
          "metadata": {},
          "output_type": "execute_result"
        }
      ],
      "source": [
        "# read in all the words\n",
        "imiona = open(\"imionapl.txt\", encoding = \"UTF-8\").read().splitlines()\n",
        "imiona = [i.lower() for i in imiona]\n",
        "imiona[:5]"
      ]
    },
    {
      "cell_type": "code",
      "execution_count": null,
      "metadata": {
        "id": "BCQomLE_8PPs",
        "outputId": "713b8cdc-c700-48a1-d4b3-3c792ddad9a2"
      },
      "outputs": [
        {
          "name": "stdout",
          "output_type": "stream",
          "text": [
            "{1: 'a', 2: 'b', 3: 'c', 4: 'd', 5: 'e', 6: 'f', 7: 'g', 8: 'h', 9: 'i', 10: 'j', 11: 'k', 12: 'l', 13: 'm', 14: 'n', 15: 'o', 16: 'p', 17: 'r', 18: 's', 19: 't', 20: 'u', 21: 'v', 22: 'w', 23: 'y', 24: 'z', 25: 'ó', 26: 'ę', 27: 'ł', 28: 'ń', 29: 'ś', 30: 'ż', 0: '.'}\n",
            "31\n"
          ]
        }
      ],
      "source": [
        "chars = sorted(list(set(''.join(imiona))))\n",
        "stoi = {s:i+1 for i,s in enumerate(chars)}\n",
        "stoi['.'] = 0\n",
        "itos = {i:s for s,i in stoi.items()}\n",
        "vocab_size = len(itos)\n",
        "print(itos)\n",
        "print(vocab_size)"
      ]
    },
    {
      "cell_type": "code",
      "execution_count": null,
      "metadata": {
        "id": "V_zt2QHr8PPs",
        "outputId": "8feae2be-2c2c-402f-bc13-9f0ea9594a94"
      },
      "outputs": [
        {
          "name": "stdout",
          "output_type": "stream",
          "text": [
            "torch.Size([3919, 3]) torch.Size([3919])\n",
            "torch.Size([510, 3]) torch.Size([510])\n",
            "torch.Size([480, 3]) torch.Size([480])\n"
          ]
        }
      ],
      "source": [
        "# build the dataset\n",
        "block_size = 3\n",
        "\n",
        "def build_dataset(imiona):  \n",
        "  X, Y = [], []\n",
        "  \n",
        "  for w in imiona:\n",
        "    context = [0] * block_size\n",
        "    for ch in w + '.':\n",
        "      ix = stoi[ch]\n",
        "      X.append(context)\n",
        "      Y.append(ix)\n",
        "      context = context[1:] + [ix] # crop and append\n",
        "\n",
        "  X = torch.tensor(X)\n",
        "  Y = torch.tensor(Y)\n",
        "  print(X.shape, Y.shape)\n",
        "  return X, Y\n",
        "\n",
        "import random\n",
        "random.seed(42)\n",
        "random.shuffle(imiona)\n",
        "n1 = int(0.8*len(imiona))\n",
        "n2 = int(0.9*len(imiona))\n",
        "\n",
        "Xtr,  Ytr  = build_dataset(imiona[:n1])     # 80%\n",
        "Xdev, Ydev = build_dataset(imiona[n1:n2])   # 10%\n",
        "Xte,  Yte  = build_dataset(imiona[n2:])     # 10%"
      ]
    },
    {
      "cell_type": "code",
      "execution_count": null,
      "metadata": {
        "id": "MJPU8HT08PPu"
      },
      "outputs": [],
      "source": [
        "def cmp(s, dt, t):\n",
        "    ex = torch.all(dt == t.grad).item()\n",
        "    app = torch.allclose(dt, t.grad)\n",
        "    maxdiff = (dt - t.grad).abs().max().item()\n",
        "    print(f'{s:15s} | exact: {str(ex):5s} | approximate: {str(app):5s} | maxdiff: {maxdiff}')"
      ]
    },
    {
      "cell_type": "code",
      "execution_count": null,
      "metadata": {
        "id": "ZlFLjQyT8PPu"
      },
      "outputs": [],
      "source": [
        "n_embd = 10\n",
        "n_hidden = 64\n",
        "\n",
        "g = torch.Generator().manual_seed(99) \n",
        "C  = torch.randn((vocab_size, n_embd),            generator=g)\n",
        "# Layer 1\n",
        "W1 = torch.randn((n_embd * block_size, n_hidden), generator=g) * (5/3)/((n_embd * block_size)**0.5)\n",
        "b1 = torch.randn(n_hidden,                        generator=g) * 0.1 \n",
        "# Layer 2\n",
        "W2 = torch.randn((n_hidden, vocab_size),          generator=g) * 0.1\n",
        "b2 = torch.randn(vocab_size,                      generator=g) * 0.1\n",
        "bngain = torch.randn((1, n_hidden))*0.1 + 1.0\n",
        "bnbias = torch.randn((1, n_hidden))*0.1\n",
        "\n",
        "\n",
        "\n",
        "parameters = [C, W1, b1, W2, b2, bngain, bnbias]\n",
        "for p in parameters:\n",
        "    p.requires_grad = True"
      ]
    },
    {
      "cell_type": "code",
      "execution_count": null,
      "metadata": {
        "id": "QY-y96Y48PPv"
      },
      "outputs": [],
      "source": [
        "batch_size = 32\n",
        "n = batch_size \n",
        "ix = torch.randint(0, Xtr.shape[0], (batch_size,), generator=g)\n",
        "Xb, Yb = Xtr[ix], Ytr[ix] # batch X,Y"
      ]
    },
    {
      "cell_type": "code",
      "execution_count": null,
      "metadata": {
        "id": "8ofj1s6d8PPv",
        "outputId": "334ae3ce-e54c-41bd-85e9-feca52186774"
      },
      "outputs": [
        {
          "data": {
            "text/plain": [
              "tensor(3.6097, grad_fn=<NegBackward0>)"
            ]
          },
          "execution_count": 27,
          "metadata": {},
          "output_type": "execute_result"
        }
      ],
      "source": [
        "emb = C[Xb] \n",
        "embcat = emb.view(emb.shape[0], -1)\n",
        "# Linear layer 1\n",
        "hprebn = embcat @ W1 + b1 \n",
        "# BatchNorm layer\n",
        "bnmeani = 1/n*hprebn.sum(0, keepdim=True)\n",
        "bndiff = hprebn - bnmeani\n",
        "bndiff2 = bndiff**2\n",
        "bnvar = 1/(n-1)*(bndiff2).sum(0, keepdim=True)\n",
        "bnvar_inv = (bnvar + 1e-5)**-0.5\n",
        "bnraw = bndiff * bnvar_inv\n",
        "hpreact = bngain * bnraw + bnbias\n",
        "# Non-linearity\n",
        "h = torch.tanh(hpreact) \n",
        "# Linear layer 2\n",
        "logits = h @ W2 + b2 \n",
        "# cross entropy loss (same as F.cross_entropy(logits, Yb))\n",
        "logit_maxes = logits.max(1, keepdim=True).values\n",
        "norm_logits = logits - logit_maxes # subtract max for numerical stability\n",
        "counts = norm_logits.exp()\n",
        "counts_sum = counts.sum(1, keepdims=True)\n",
        "counts_sum_inv = counts_sum**-1 \n",
        "probs = counts * counts_sum_inv\n",
        "logprobs = probs.log()\n",
        "loss = -logprobs[range(n), Yb].mean()\n",
        "\n",
        "# PyTorch backward pass\n",
        "for p in parameters:\n",
        "    p.grad = None\n",
        "for t in [logprobs, probs, counts, counts_sum, counts_sum_inv,\n",
        "          norm_logits, logit_maxes, logits, h, hpreact, bnraw,\n",
        "         bnvar_inv, bnvar, bndiff2, bndiff, hprebn, bnmeani,\n",
        "         embcat, emb]:\n",
        "    t.retain_grad()\n",
        "loss.backward()\n",
        "loss"
      ]
    },
    {
      "cell_type": "code",
      "execution_count": null,
      "metadata": {
        "id": "mO-8aqxK8PPw",
        "outputId": "56fde0cb-f546-4f9c-dafe-58a7e53e83b7"
      },
      "outputs": [
        {
          "name": "stdout",
          "output_type": "stream",
          "text": [
            "logprobs        | exact: True  | approximate: True  | maxdiff: 0.0\n",
            "probs           | exact: True  | approximate: True  | maxdiff: 0.0\n",
            "counts_sum_inv  | exact: True  | approximate: True  | maxdiff: 0.0\n",
            "counts_sum      | exact: True  | approximate: True  | maxdiff: 0.0\n",
            "counts          | exact: True  | approximate: True  | maxdiff: 0.0\n",
            "norm_logits     | exact: True  | approximate: True  | maxdiff: 0.0\n",
            "logit_maxes     | exact: True  | approximate: True  | maxdiff: 0.0\n",
            "logits          | exact: True  | approximate: True  | maxdiff: 0.0\n",
            "h               | exact: True  | approximate: True  | maxdiff: 0.0\n",
            "W2              | exact: True  | approximate: True  | maxdiff: 0.0\n",
            "b2              | exact: True  | approximate: True  | maxdiff: 0.0\n",
            "hpreact         | exact: True  | approximate: True  | maxdiff: 0.0\n",
            "bngain          | exact: True  | approximate: True  | maxdiff: 0.0\n",
            "bnbias          | exact: True  | approximate: True  | maxdiff: 0.0\n",
            "bnraw           | exact: True  | approximate: True  | maxdiff: 0.0\n",
            "bnvar_inv       | exact: True  | approximate: True  | maxdiff: 0.0\n",
            "bnvar           | exact: True  | approximate: True  | maxdiff: 0.0\n",
            "bndiff2         | exact: True  | approximate: True  | maxdiff: 0.0\n",
            "bndiff          | exact: True  | approximate: True  | maxdiff: 0.0\n",
            "bnmeani         | exact: True  | approximate: True  | maxdiff: 0.0\n",
            "hprebn          | exact: True  | approximate: True  | maxdiff: 0.0\n",
            "embcat          | exact: True  | approximate: True  | maxdiff: 0.0\n",
            "W1              | exact: True  | approximate: True  | maxdiff: 0.0\n",
            "b1              | exact: True  | approximate: True  | maxdiff: 0.0\n",
            "emb             | exact: True  | approximate: True  | maxdiff: 0.0\n",
            "C               | exact: True  | approximate: True  | maxdiff: 0.0\n"
          ]
        }
      ],
      "source": [
        "dlogprobs = torch.zeros(logprobs.shape)\n",
        "dlogprobs[range(n), Yb] = -1./n\n",
        "dprobs = 1./probs * dlogprobs\n",
        "dcounts_sum_inv = (counts * dprobs).sum(1, keepdims = True)\n",
        "dcounts = counts_sum_inv * dprobs\n",
        "dcounts_sum =  -counts_sum**(-2)  * dcounts_sum_inv\n",
        "dcounts += torch.ones_like(counts) * dcounts_sum \n",
        "dnorm_logits =  counts * dcounts\n",
        "dlogits1 = dnorm_logits\n",
        "dlogits2 = torch.zeros(logits.shape)\n",
        "dlogits2[range(n),logits.argmax(1)] = 1\n",
        "dlogit_maxes  = -dnorm_logits.sum(1, keepdims = True)\n",
        "dlogits = dlogits1  + (dlogits2* dlogit_maxes)\n",
        "dh = dlogits @ W2.T\n",
        "dW2 =  h.T @ dlogits\n",
        "db2 = dlogits.sum(0)\n",
        "dhpreact = (1 - h**2) * dh\n",
        "dbngain = (bnraw * dhpreact).sum(0, keepdims = True) \n",
        "dbnraw = bngain * dhpreact\n",
        "dbnbias = 1 * dhpreact.sum(0)\n",
        "dbnvar_inv = (bndiff * dbnraw).sum(0, keepdims = True)\n",
        "dbndiff_1 = bnvar_inv * dbnraw\n",
        "dbnvar= (-0.5*(bnvar + 1e-5)**-1.5) * dbnvar_inv\n",
        "dbndiff2 =((1.0)/(n-1)*torch.ones_like(bndiff2))* dbnvar\n",
        "dbndiff_2 = 2 * bndiff * dbndiff2\n",
        "dbndiff = dbndiff_1 + dbndiff_2\n",
        "dbnmeani = -torch.ones_like(bnmeani) * dbndiff.sum(0)\n",
        "dhprebn_1 = dbndiff.clone() \n",
        "dhprebn_2 = 1.0/n*torch.ones_like(hprebn) * dbnmeani\n",
        "dhprebn = dhprebn_1 + dhprebn_2\n",
        "dembcat = dhprebn @ W1.T\n",
        "dW1 = embcat.T @ dhprebn\n",
        "db1 = dhprebn.sum(0)\n",
        "demb = dembcat.view(emb.shape)\n",
        "dC = torch.zeros_like(C)\n",
        "for i in range(Xb.shape[0]):\n",
        "    for j in range(Xb.shape[1]):\n",
        "        ix = Xb[i,j]\n",
        "        dC[ix] += demb[i,j]\n",
        "\n",
        "\n",
        "\n",
        "cmp('logprobs', dlogprobs, logprobs)\n",
        "cmp('probs', dprobs, probs)\n",
        "cmp('counts_sum_inv', dcounts_sum_inv, counts_sum_inv)\n",
        "cmp('counts_sum', dcounts_sum, counts_sum)\n",
        "cmp('counts', dcounts, counts)\n",
        "cmp('norm_logits', dnorm_logits, norm_logits)\n",
        "cmp('logit_maxes', dlogit_maxes, logit_maxes)\n",
        "cmp('logits', dlogits, logits)\n",
        "cmp('h', dh, h)\n",
        "cmp('W2', dW2, W2)\n",
        "cmp('b2', db2, b2)\n",
        "cmp('hpreact', dhpreact, hpreact)\n",
        "cmp('bngain', dbngain, bngain)\n",
        "cmp('bnbias', dbnbias, bnbias)\n",
        "cmp('bnraw', dbnraw, bnraw)\n",
        "cmp('bnvar_inv', dbnvar_inv, bnvar_inv)\n",
        "cmp('bnvar', dbnvar, bnvar)\n",
        "cmp('bndiff2', dbndiff2, bndiff2)\n",
        "cmp('bndiff', dbndiff, bndiff)\n",
        "cmp('bnmeani', dbnmeani, bnmeani)\n",
        "cmp('hprebn', dhprebn, hprebn)\n",
        "cmp('embcat', dembcat, embcat)\n",
        "cmp('W1', dW1, W1)\n",
        "cmp('b1', db1, b1)\n",
        "cmp('emb', demb, emb)\n",
        "cmp('C', dC, C)\n"
      ]
    },
    {
      "cell_type": "code",
      "execution_count": null,
      "metadata": {
        "id": "ebLtYji_8PPw",
        "outputId": "8820363f-d9fd-47a4-9603-8b5d76602c84"
      },
      "outputs": [
        {
          "name": "stdout",
          "output_type": "stream",
          "text": [
            "3.6097300052642822 diff: -2.384185791015625e-07\n",
            "logits          | exact: False | approximate: True  | maxdiff: 7.450580596923828e-09\n"
          ]
        }
      ],
      "source": [
        "# backprop through cross_entropy but all in one go\n",
        "\n",
        "# forward pass\n",
        "loss_fast = F.cross_entropy(logits, Yb)\n",
        "print(loss_fast.item(), 'diff:', (loss_fast - loss).item())\n",
        "\n",
        "\n",
        "# backward pass\n",
        "#https://www.mldawn.com/the-derivative-of-softmaxz-function-w-r-t-z/\n",
        "\n",
        "dlogits = F.softmax(logits,1)\n",
        "dlogits[range(n), Yb] -= 1\n",
        "dlogits /= n #mean\n",
        "cmp('logits', dlogits, logits) "
      ]
    },
    {
      "cell_type": "code",
      "execution_count": null,
      "metadata": {
        "id": "LtBHcr0r1hQj",
        "outputId": "f76b6c0d-54c2-4e87-982e-5dd8bafd32ce"
      },
      "outputs": [
        {
          "data": {
            "text/plain": [
              "tensor([0.0257, 0.0243, 0.0158, 0.0093, 0.0297, 0.0233, 0.0375, 0.0873, 0.0123,\n",
              "        0.0449, 0.0268, 0.0226, 0.0403, 0.0565, 0.0737, 0.0177, 0.0347, 0.0144,\n",
              "        0.0119, 0.0285, 0.0402, 0.0310, 0.0204, 0.0132, 0.0654, 0.0246, 0.0281,\n",
              "        0.0696, 0.0142, 0.0192, 0.0368], grad_fn=<SelectBackward0>)"
            ]
          },
          "execution_count": 30,
          "metadata": {},
          "output_type": "execute_result"
        }
      ],
      "source": [
        "F.softmax(logits, 1)[0]"
      ]
    },
    {
      "cell_type": "code",
      "execution_count": null,
      "metadata": {
        "id": "Q1f8fhOS1hQk",
        "outputId": "46ce45cd-22f3-4c1d-e9b6-cb7e3aa7e26f"
      },
      "outputs": [
        {
          "data": {
            "text/plain": [
              "tensor([ 0.0257,  0.0243,  0.0158,  0.0093,  0.0297,  0.0233,  0.0375,  0.0873,\n",
              "         0.0123,  0.0449,  0.0268,  0.0226,  0.0403,  0.0565,  0.0737,  0.0177,\n",
              "         0.0347, -0.9856,  0.0119,  0.0285,  0.0402,  0.0310,  0.0204,  0.0132,\n",
              "         0.0654,  0.0246,  0.0281,  0.0696,  0.0142,  0.0192,  0.0368],\n",
              "       grad_fn=<MulBackward0>)"
            ]
          },
          "execution_count": 31,
          "metadata": {},
          "output_type": "execute_result"
        }
      ],
      "source": [
        "dlogits[0] * n "
      ]
    },
    {
      "cell_type": "code",
      "execution_count": null,
      "metadata": {
        "id": "69lCHNk61hQm",
        "outputId": "ec25570d-26a5-49c7-85bc-a4f532470af6"
      },
      "outputs": [
        {
          "data": {
            "text/plain": [
              "<matplotlib.image.AxesImage at 0x242c68ce490>"
            ]
          },
          "execution_count": 32,
          "metadata": {},
          "output_type": "execute_result"
        },
        {
          "data": {
            "image/png": "[encoded data removed]",
            "text/plain": [
              "<Figure size 864x864 with 1 Axes>"
            ]
          },
          "metadata": {
            "needs_background": "light"
          },
          "output_type": "display_data"
        }
      ],
      "source": [
        "plt.figure(figsize =( 12,12))\n",
        "plt.imshow(dlogits.detach(), cmap = \"gray\")"
      ]
    },
    {
      "cell_type": "code",
      "execution_count": null,
      "metadata": {
        "id": "hd-MkhB68PPy",
        "outputId": "958e9eab-e0c4-476d-a03b-8a92d9cb4902"
      },
      "outputs": [
        {
          "name": "stdout",
          "output_type": "stream",
          "text": [
            "max diff: tensor(4.7684e-07, grad_fn=<MaxBackward1>)\n"
          ]
        }
      ],
      "source": [
        "#backprop through batchnorm but all in one go\n",
        "\n",
        "# forward pass\n",
        "hpreact_fast = bngain * (hprebn - hprebn.mean(0, keepdim=True)) / torch.sqrt(hprebn.var(0, keepdim=True, unbiased=True) + 1e-5) + bnbias\n",
        "print('max diff:', (hpreact_fast - hpreact).abs().max())"
      ]
    },
    {
      "cell_type": "code",
      "execution_count": null,
      "metadata": {
        "id": "POdeZSKT8PPy",
        "outputId": "8dadb048-ca99-4443-e0ac-22e72ca9c59f"
      },
      "outputs": [
        {
          "name": "stdout",
          "output_type": "stream",
          "text": [
            "hprebn          | exact: False | approximate: True  | maxdiff: 1.3969838619232178e-09\n"
          ]
        }
      ],
      "source": [
        "# backward pass\n",
        "dhprebn = bngain*bnvar_inv/n * (n*dhpreact - dhpreact.sum(0) - n/(n-1)*bnraw*(dhpreact*bnraw).sum(0))\n",
        "cmp('hprebn', dhprebn, hprebn) "
      ]
    }
  ],
  "metadata": {
    "colab": {
      "provenance": []
    },
    "kernelspec": {
      "display_name": "Python 3",
      "language": "python",
      "name": "python3"
    },
    "language_info": {
      "codemirror_mode": {
        "name": "ipython",
        "version": 3
      },
      "file_extension": ".py",
      "mimetype": "text/x-python",
      "name": "python",
      "nbconvert_exporter": "python",
      "pygments_lexer": "ipython3",
      "version": "3.8.5"
    }
  },
  "nbformat": 4,
  "nbformat_minor": 0
}