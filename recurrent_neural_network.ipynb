{
  "cells": [
    {
      "cell_type": "code",
      "execution_count": null,
      "metadata": {
        "id": "__krWRc5jjjg"
      },
      "outputs": [],
      "source": [
        "import torch\n",
        "import numpy as np\n",
        "from torch import nn \n",
        "import random\n",
        "from torch.nn import functional as F\n",
        "import matplotlib.pyplot as plt\n",
        "%matplotlib inline"
      ]
    },
    {
      "cell_type": "code",
      "execution_count": null,
      "metadata": {
        "colab": {
          "base_uri": "https://localhost:8080/"
        },
        "id": "7Ox9DsCRjjji",
        "outputId": "0c73252f-126e-4791-b479-93c15263930a"
      },
      "outputs": [
        {
          "data": {
            "text/plain": [
              "['ada', 'adalbert', 'adam', 'adela', 'adelajda']"
            ]
          },
          "execution_count": 9,
          "metadata": {},
          "output_type": "execute_result"
        }
      ],
      "source": [
        "imiona = open(\"imionapl.txt\", encoding = \"UTF-8\").read().splitlines()\n",
        "imiona = [i.lower() for i in imiona]\n",
        "imiona[:5]"
      ]
    },
    {
      "cell_type": "code",
      "execution_count": null,
      "metadata": {
        "colab": {
          "base_uri": "https://localhost:8080/"
        },
        "id": "14iSiKZBjjjm",
        "outputId": "c792fb2b-2333-44ea-cdb7-c831ef1750ed"
      },
      "outputs": [
        {
          "name": "stdout",
          "output_type": "stream",
          "text": [
            "31\n"
          ]
        }
      ],
      "source": [
        "chars = sorted(list(set(''.join(imiona))))\n",
        "stoi = {s:i +1  for i, s in enumerate(chars)}\n",
        "stoi['.'] = 0\n",
        "itos = {i :s for s, i in stoi.items()}\n",
        "vocab_size = len(itos)\n",
        "print(vocab_size)"
      ]
    },
    {
      "cell_type": "code",
      "execution_count": null,
      "metadata": {
        "colab": {
          "base_uri": "https://localhost:8080/"
        },
        "id": "clB-9zscjjjq",
        "outputId": "abc79d53-a5bc-4b11-d479-54c986976ed3"
      },
      "outputs": [
        {
          "name": "stdout",
          "output_type": "stream",
          "text": [
            "torch.Size([3919, 3]) torch.Size([3919])\n",
            "torch.Size([510, 3]) torch.Size([510])\n",
            "torch.Size([480, 3]) torch.Size([480])\n"
          ]
        }
      ],
      "source": [
        "block_size = 3 \n",
        "def build_dataset(imiona):  \n",
        "    X, Y = [], []\n",
        "    for w in imiona:\n",
        "\n",
        "        context = [0] * block_size\n",
        "        for ch in w + '.':\n",
        "            ix = stoi[ch]\n",
        "            X.append(context)\n",
        "            Y.append(ix)\n",
        "            context = context[1:] + [ix] # crop and append\n",
        "\n",
        "    X = torch.tensor(X)\n",
        "    Y = torch.tensor(Y)\n",
        "    print(X.shape, Y.shape)\n",
        "    return X, Y\n",
        "random.seed(42)\n",
        "random.shuffle(imiona)\n",
        "n1 = int(0.8*len(imiona))\n",
        "n2 = int(0.9*len(imiona))\n",
        "\n",
        "X_train, Y_train = build_dataset(imiona[:n1])\n",
        "X_dev, Y_dev = build_dataset(imiona[n1:n2])\n",
        "X_test, Y_test = build_dataset(imiona[n2:])\n",
        "    "
      ]
    },
    {
      "cell_type": "code",
      "execution_count": 177,
      "metadata": {},
      "outputs": [],
      "source": [
        "dims = 2 \n",
        "hidden_neurons = 10\n",
        "\n",
        "g = torch.Generator().manual_seed(42)\n",
        "C = torch.randn((vocab_size, dims))\n",
        "W1 = torch.randn((dims*block_size, hidden_neurons), generator = g)\n",
        "b1 = torch.randn((hidden_neurons), generator = g)\n",
        "W2 = torch.randn((hidden_neurons, hidden_neurons), generator = g)\n",
        "W3 = torch.randn((hidden_neurons, vocab_size), generator = g)\n",
        "\n",
        "parameters = [C, W1, W2,W3, b1]\n",
        "\n",
        "def enable_grad(parameters):\n",
        "    for p in parameters:\n",
        "        p.requires_grad = True\n",
        "enable_grad(parameters)"
      ]
    },
    {
      "cell_type": "code",
      "execution_count": 192,
      "metadata": {},
      "outputs": [],
      "source": [
        "\n",
        "def model(X_train,Y_train, batch_size, parameters, max_steps, state = None):\n",
        "    outputs = []  \n",
        "    C, W1, W2, W3,  b1 = parameters\n",
        "    for i in range(max_steps):\n",
        "\n",
        "        # minibatch construct\n",
        "        ix = torch.randint(0, X_train.shape[0], (batch_size,))\n",
        "        X_batched, Y_batched = X_train[ix], Y_train[ix]\n",
        "        # forward pass\n",
        "        emb = C[X_batched]\n",
        "        #print(f\"\"\"emb :{emb.shape}\"\"\")\n",
        "        embcat = emb.view(emb.shape[0], -1)\n",
        "        if state is None:\n",
        "            # Initial state with shape: (batch_size, hidden_neurons)\n",
        "            state = torch.zeros((embcat.shape[0], hidden_neurons))\n",
        "        else:\n",
        "            state = state\n",
        "         \n",
        "        state = torch.tanh(embcat @ W1 + state @ W2 + b1)\n",
        "        outputs.append(state)\n",
        "        logits = state @ W3 \n",
        "        loss = F.cross_entropy(logits, Y_batched)\n",
        "        cat = torch.argmax(logits, dim=1)\n",
        "        accuracy = (cat == Y_batched).float().mean()\n",
        "        print(cat)\n",
        "    return outputs, state\n",
        "   \n",
        "        \n",
        "\n"
      ]
    },
    {
      "cell_type": "code",
      "execution_count": 194,
      "metadata": {},
      "outputs": [
        {
          "name": "stdout",
          "output_type": "stream",
          "text": [
            "tensor([30, 11, 20, 21, 17, 29, 17, 27])\n",
            "tensor([21, 21, 17, 20,  5, 16,  5, 17])\n",
            "tensor([11, 11, 16, 29, 22, 29,  5, 17])\n",
            "tensor([12, 24, 14, 12, 13, 16, 17,  5])\n",
            "tensor([20, 20, 11, 10,  5,  5, 17, 20])\n",
            "tensor([16, 21, 17, 14,  3,  3, 17, 17])\n",
            "tensor([16, 11, 17,  3, 29, 28, 18, 17])\n",
            "tensor([29, 17, 17, 19, 14, 13, 13,  5])\n",
            "tensor([ 2, 17,  5,  2,  4, 17,  5, 11])\n",
            "tensor([20, 17, 17, 20, 17, 17, 17, 17])\n"
          ]
        }
      ],
      "source": [
        "\n",
        "bs = 8\n",
        "hidden_neurons = hidden_neurons\n",
        "out, states = model(X_train, Y_train, bs , parameters, hidden_neurons)"
      ]
    },
    {
      "cell_type": "code",
      "execution_count": 195,
      "metadata": {},
      "outputs": [],
      "source": [
        "def check_len(a, n):  \n",
        "    \"\"\"Check the length of a list.\"\"\"\n",
        "    print(len(a))\n",
        "    assert len(a) == n, f'list\\'s length {len(a)} != expected length {n}'\n",
        "\n",
        "def check_shape(a, shape): \n",
        "    \"\"\"Check the shape of a tensor.\"\"\"\n",
        "    assert a.shape == shape, \\\n",
        "            f'tensor\\'s shape {a.shape} != expected shape {shape}'"
      ]
    },
    {
      "cell_type": "code",
      "execution_count": 196,
      "metadata": {},
      "outputs": [
        {
          "name": "stdout",
          "output_type": "stream",
          "text": [
            "10\n"
          ]
        }
      ],
      "source": [
        "check_len(out, 10)\n",
        "check_shape(out[0], (bs, hidden_neurons))\n",
        "check_shape(states, (bs, hidden_neurons))"
      ]
    }
  ],
  "metadata": {
    "colab": {
      "provenance": []
    },
    "kernelspec": {
      "display_name": "base",
      "language": "python",
      "name": "python3"
    },
    "language_info": {
      "codemirror_mode": {
        "name": "ipython",
        "version": 3
      },
      "file_extension": ".py",
      "mimetype": "text/x-python",
      "name": "python",
      "nbconvert_exporter": "python",
      "pygments_lexer": "ipython3",
      "version": "3.8.5"
    },
    "vscode": {
      "interpreter": {
        "hash": "552f9236d53b6d88235c7510838d0605a40bf9d88d99e1f2dbdae4700662bf3d"
      }
    }
  },
  "nbformat": 4,
  "nbformat_minor": 0
}
